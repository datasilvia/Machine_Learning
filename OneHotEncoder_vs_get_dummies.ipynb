{
 "cells": [
  {
   "cell_type": "markdown",
   "metadata": {},
   "source": [
    "# One Hot Encoding vs Get_Dummies\n",
    "\n",
    "Como cada modelo de Machine Learning requiere unos tipos de datos específicos, a veces tenemos que **transformar los datos** que tenemos.\n",
    "\n",
    "Hacer dummies y aplicar one-hot encoding son muy similares, pero tienen algunas diferencias sutiles en su implementación dependiendo de la herramienta o biblioteca que utilicemos.\n",
    "\n",
    "## Similitudes:\n",
    "\n",
    "- **Objetivo**: Ambos métodos convierten variables categóricas en variables numéricas binarias para que puedan ser usadas por modelos de Machine Learning.\n",
    "\n",
    "- **Resultado**: Cada categoría de la variable original se convierte en una columna separada con valores 0 o 1.\n",
    "\n",
    "\n",
    "## Diferencias:\n",
    "\n",
    "- **Terminología**:\n",
    "\n",
    "**Crear dummies** generalmente se refiere a un enfoque más amplio que puede incluir otras técnicas de codificación, pero en pandas, el término get_dummies() hace específicamente un one-hot encoding.\n",
    "\n",
    "\n",
    "**One-hot encoding** es un término más técnico y específico del campo de MachineLearning.\n",
    "\n",
    "- **Herramientas**:\n",
    "\n",
    "En **pandas**, pd.get_dummies() es una forma de realizar one-hot encoding directamente sobre tus datos.\n",
    "\n",
    "En **Scikit-learn**, el OneHotEncoder permite hacer lo mismo, pero con más opciones como manejar categorías desconocidas y transformar datos tanto para entrenar como para predecir.\n",
    "\n",
    "\n",
    "- **Representación del resultado**:\n",
    "\n",
    "``` python\n",
    "\n",
    "pd.get_dummies()\n",
    "\n",
    "```\n",
    "\n",
    " Por defecto incluye columnas para todas las categorías.\n",
    "\n",
    "``` python\n",
    "\n",
    "OneHotEncoder\n",
    "\n",
    "```\n",
    "\n",
    " Por defecto excluye una categoría (opción drop='first') para evitar multicolinealidad en regresiones, aunque puedes ajustar este comportamiento."
   ]
  },
  {
   "cell_type": "code",
   "execution_count": 1,
   "metadata": {},
   "outputs": [
    {
     "name": "stdout",
     "output_type": "stream",
     "text": [
      "    Azul   Rojo  Verde\n",
      "0  False   True  False\n",
      "1   True  False  False\n",
      "2  False  False   True\n"
     ]
    }
   ],
   "source": [
    "# Ejemplo en Pandas (get_dummies):\n",
    "\n",
    "import pandas as pd\n",
    "\n",
    "data = pd.DataFrame({'Color': ['Rojo', 'Azul', 'Verde']})\n",
    "\n",
    "# Crear dummies\n",
    "dummies = pd.get_dummies(data['Color'])\n",
    "print(dummies)\n"
   ]
  },
  {
   "cell_type": "code",
   "execution_count": 3,
   "metadata": {},
   "outputs": [
    {
     "name": "stdout",
     "output_type": "stream",
     "text": [
      "[[0. 1. 0.]\n",
      " [1. 0. 0.]\n",
      " [0. 0. 1.]]\n"
     ]
    }
   ],
   "source": [
    "# Ejemplo en Scikit-learn (OneHotEncoder):\n",
    "\n",
    "from sklearn.preprocessing import OneHotEncoder\n",
    "\n",
    "data = [['Rojo'], ['Azul'], ['Verde']]\n",
    "\n",
    "# Crear encoder\n",
    "encoder = OneHotEncoder()\n",
    "encoded = encoder.fit_transform(data).toarray()\n",
    "\n",
    "print(encoded)\n"
   ]
  },
  {
   "cell_type": "markdown",
   "metadata": {},
   "source": [
    "## Cuándo usar cada uno:\n",
    "\n",
    "### pd.get_dummies() \n",
    "\n",
    "Se puede usar cuando trabajamos directamente con pandas y necesitamos un enfoque rápido.\n",
    "\n",
    "### OneHotEncoder \n",
    "\n",
    "Es indicado si estamos integrando el proceso en un pipeline de Scikit-learn o necesitamos manejar categorías desconocidas durante la predicción."
   ]
  }
 ],
 "metadata": {
  "kernelspec": {
   "display_name": "py5",
   "language": "python",
   "name": "py5"
  },
  "language_info": {
   "codemirror_mode": {
    "name": "ipython",
    "version": 3
   },
   "file_extension": ".py",
   "mimetype": "text/x-python",
   "name": "python",
   "nbconvert_exporter": "python",
   "pygments_lexer": "ipython3",
   "version": "3.12.4"
  }
 },
 "nbformat": 4,
 "nbformat_minor": 2
}
